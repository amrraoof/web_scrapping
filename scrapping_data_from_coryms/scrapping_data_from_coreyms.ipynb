{
 "cells": [
  {
   "cell_type": "markdown",
   "id": "1c001448",
   "metadata": {},
   "source": [
    "## Scrapping data from coreyms.com \n",
    "## 1. scrapping the whole sections headlines, summaries and video links\n",
    "## 2. save these data in a csv file"
   ]
  },
  {
   "cell_type": "code",
   "execution_count": 1,
   "id": "5bdc5f98",
   "metadata": {
    "ExecuteTime": {
     "end_time": "2023-01-28T20:26:00.508252Z",
     "start_time": "2023-01-28T20:26:00.267617Z"
    }
   },
   "outputs": [],
   "source": [
    "import requests\n",
    "from bs4 import BeautifulSoup\n",
    "import csv"
   ]
  },
  {
   "cell_type": "code",
   "execution_count": 2,
   "id": "c6f86d0c",
   "metadata": {
    "ExecuteTime": {
     "end_time": "2023-01-28T20:26:02.263428Z",
     "start_time": "2023-01-28T20:26:01.224795Z"
    }
   },
   "outputs": [],
   "source": [
    "website = requests.get(\"https://coreyms.com\").text\n",
    "soup = BeautifulSoup(website,\"lxml\")"
   ]
  },
  {
   "cell_type": "markdown",
   "id": "f0bc01ea",
   "metadata": {},
   "source": [
    "## Scrapping headlines"
   ]
  },
  {
   "cell_type": "code",
   "execution_count": 3,
   "id": "06414637",
   "metadata": {
    "ExecuteTime": {
     "end_time": "2023-01-28T20:26:02.808403Z",
     "start_time": "2023-01-28T20:26:02.790524Z"
    }
   },
   "outputs": [],
   "source": [
    "\n",
    "headlines = soup.find_all(\"a\",class_=\"entry-title-link\")\n",
    "headlines_list = []\n",
    "for head in headlines:\n",
    "    headlines_list.append(head.text)"
   ]
  },
  {
   "cell_type": "code",
   "execution_count": 4,
   "id": "41b441f3",
   "metadata": {
    "ExecuteTime": {
     "end_time": "2023-01-28T20:26:04.605828Z",
     "start_time": "2023-01-28T20:26:04.590208Z"
    }
   },
   "outputs": [
    {
     "name": "stdout",
     "output_type": "stream",
     "text": [
      "['Python Tutorial: Zip Files – Creating and Extracting Zip Archives', 'Python Data Science Tutorial: Analyzing the 2019 Stack Overflow Developer Survey', 'Python Multiprocessing Tutorial: Run Code in Parallel Using the Multiprocessing Module', 'Python Threading Tutorial: Run Code Concurrently Using the Threading Module', 'Update (2019-09-03)', 'Python Quick Tip: The Difference Between “==” and “is” (Equality vs Identity)', 'Python Tutorial: Calling External Commands Using the Subprocess Module', 'Visual Studio Code (Windows) – Setting up a Python Development Environment and Complete Overview', 'Visual Studio Code (Mac) – Setting up a Python Development Environment and Complete Overview', 'Clarifying the Issues with Mutable Default Arguments']\n"
     ]
    }
   ],
   "source": [
    "print(headlines_list)"
   ]
  },
  {
   "cell_type": "markdown",
   "id": "f58511ef",
   "metadata": {},
   "source": [
    "## scrapping summaries"
   ]
  },
  {
   "cell_type": "code",
   "execution_count": 5,
   "id": "89933530",
   "metadata": {
    "ExecuteTime": {
     "end_time": "2023-01-28T20:26:06.154787Z",
     "start_time": "2023-01-28T20:26:06.123471Z"
    }
   },
   "outputs": [],
   "source": [
    "summaries = soup.find_all(\"div\" , class_ = \"entry-content\")\n",
    "summaries_list = []\n",
    "for summary in summaries:\n",
    "    summaries_list.append(summary.p.text)"
   ]
  },
  {
   "cell_type": "code",
   "execution_count": 6,
   "id": "1ce7923f",
   "metadata": {
    "ExecuteTime": {
     "end_time": "2023-01-28T20:26:06.808923Z",
     "start_time": "2023-01-28T20:26:06.777604Z"
    }
   },
   "outputs": [
    {
     "data": {
      "text/plain": [
       "['In this video, we will be learning how to create and extract zip archives. We will start by using the zipfile module, and then we will see how to do this using the shutil module. We will learn how to do this with single files and directories, as well as learning how to use gzip as well. Let’s get started…',\n",
       " 'In this Python Programming video, we will be learning how to download and analyze real-world data from the 2019 Stack Overflow Developer Survey. This is terrific practice for anyone getting into the data science field. We will learn different ways to analyze this data and also some best practices. Let’s get started…',\n",
       " 'In this Python Programming video, we will be learning how to run code in parallel using the multiprocessing module. We will also look at how to process multiple high-resolution images at the same time using a ProcessPoolExecutor from the concurrent.futures module. Let’s get started…',\n",
       " 'In this Python Programming video, we will be learning how to run threads concurrently using the threading module. We will also look at how to download multiple high-resolution images online using a ThreadPoolExecutor from the concurrent.futures module. Let’s get started…',\n",
       " 'Hey everyone. I wanted to give you an update on my videos. I will be releasing videos on threading and multiprocessing within the next week. Thanks so much for your patience. I currently have a temporary recording studio setup at my Airbnb that will allow me to record and edit the threading/multiprocessing videos. I am going to be moving into my new house in 10 days and once I have my recording studio setup then you can expect much faster video releases. I really appreciate how patient everyone has been while I go through this move, especially those of you who are contributing monthly through YouTube ',\n",
       " 'In this Python Programming Tutorial, we will be learning the difference between using “==” and the “is” keyword when doing comparisons. The difference between these is that “==” checks to see if values are equal, and the “is” keyword checks their identity, which means it’s going to check if the values are identical in terms of being the same object in memory. We’ll learn more in the video. Let’s get started…',\n",
       " 'In this Python Programming Tutorial, we will be learning how to run external commands using the subprocess module from the standard library. We will learn how to run commands, capture the output, handle errors, and also how to pipe output into other commands. Let’s get started…',\n",
       " 'In this Python Programming Tutorial, we will be learning how to set up a Python development environment in VSCode on Windows. VSCode is a very nice free editor for writing Python applications and many developers are now switching over to this editor. In this video, we will learn how to install VSCode, get the Python extension installed, how to change Python interpreters, create virtual environments, format/lint our code, how to use Git within VSCode, how to debug our programs, how unit testing works, and more. We have a lot to cover, so let’s go ahead and get started…',\n",
       " 'In this Python Programming Tutorial, we will be learning how to set up a Python development environment in VSCode on MacOS. VSCode is a very nice free editor for writing Python applications and many developers are now switching over to this editor. In this video, we will learn how to install VSCode, get the Python extension installed, how to change Python interpreters, create virtual environments, format/lint our code, how to use Git within VSCode, how to debug our programs, how unit testing works, and more. We have a lot to cover, so let’s go ahead and get started…',\n",
       " 'In this Python Programming Tutorial, we will be clarifying the issues with mutable default arguments. We discussed this in my last video titled “5 Common Python Mistakes and How to Fix Them”, but I received many comments from people who were still confused. So we will be doing a deeper dive to explain exactly what is going on here. Let’s get started…']"
      ]
     },
     "execution_count": 6,
     "metadata": {},
     "output_type": "execute_result"
    }
   ],
   "source": [
    "summaries_list"
   ]
  },
  {
   "cell_type": "markdown",
   "id": "894f3508",
   "metadata": {},
   "source": [
    "## scrapping youtube links"
   ]
  },
  {
   "cell_type": "code",
   "execution_count": 7,
   "id": "3e28e009",
   "metadata": {
    "ExecuteTime": {
     "end_time": "2023-01-28T20:26:08.699047Z",
     "start_time": "2023-01-28T20:26:08.679436Z"
    }
   },
   "outputs": [],
   "source": [
    "youtube_links = soup.find(\"iframe\" , class_ = \"youtube-player\").attrs[\"src\"]"
   ]
  },
  {
   "cell_type": "code",
   "execution_count": 8,
   "id": "d5df9c6b",
   "metadata": {
    "ExecuteTime": {
     "end_time": "2023-01-28T20:26:09.328917Z",
     "start_time": "2023-01-28T20:26:09.313293Z"
    }
   },
   "outputs": [
    {
     "name": "stdout",
     "output_type": "stream",
     "text": [
      "youtube id is : z0gguhEmWiY then youtube link is: https://www.youtube.com/watch?v=z0gguhEmWiY\n"
     ]
    }
   ],
   "source": [
    "articles = soup.find(\"article\")\n",
    "video = articles.find(\"iframe\",class_ = \"youtube-player\").attrs[\"src\"]\n",
    "video = video.split(\"/\")\n",
    "video = video[-1].split(\"?\")\n",
    "video = video[0]\n",
    "print(f\"youtube id is : {video} then youtube link is: https://www.youtube.com/watch?v={video}\")"
   ]
  },
  {
   "cell_type": "code",
   "execution_count": 9,
   "id": "6649de22",
   "metadata": {
    "ExecuteTime": {
     "end_time": "2023-01-28T20:26:10.059630Z",
     "start_time": "2023-01-28T20:26:10.036504Z"
    }
   },
   "outputs": [
    {
     "data": {
      "text/plain": [
       "'https://www.youtube.com/embed/z0gguhEmWiY?version=3&rel=1&showsearch=0&showinfo=1&iv_load_policy=1&fs=1&hl=en-US&autohide=2&wmode=transparent'"
      ]
     },
     "execution_count": 9,
     "metadata": {},
     "output_type": "execute_result"
    }
   ],
   "source": [
    "youtube_links"
   ]
  },
  {
   "cell_type": "code",
   "execution_count": 10,
   "id": "96453435",
   "metadata": {
    "ExecuteTime": {
     "end_time": "2023-01-28T20:26:10.637933Z",
     "start_time": "2023-01-28T20:26:10.623905Z"
    }
   },
   "outputs": [
    {
     "data": {
      "text/plain": [
       "10"
      ]
     },
     "execution_count": 10,
     "metadata": {},
     "output_type": "execute_result"
    }
   ],
   "source": [
    "len(summaries_list)"
   ]
  },
  {
   "cell_type": "code",
   "execution_count": 11,
   "id": "c93a77a6",
   "metadata": {
    "ExecuteTime": {
     "end_time": "2023-01-28T20:26:11.222970Z",
     "start_time": "2023-01-28T20:26:11.191768Z"
    },
    "code_folding": []
   },
   "outputs": [],
   "source": [
    "youtube_links_list = []\n",
    "articles = soup.find_all(\"article\") # because some section doesn't have youtube videos\n",
    "\n",
    "for article in articles:\n",
    "    try:\n",
    "        article = article.find(\"iframe\" , class_ = \"youtube-player\").attrs[\"src\"]\n",
    "        article = article.split(\"/\")\n",
    "        article = article[-1].split(\"?\")\n",
    "        article = article[0]\n",
    "        youtube_link = f\"https://www.youtube.com/watch?v={article}\"\n",
    "        youtube_links_list.append(youtube_link)\n",
    "    \n",
    "    except Exception as e:\n",
    "        link = \"There is not any youtube links in this section\"\n",
    "        youtube_links_list.append(link)"
   ]
  },
  {
   "cell_type": "code",
   "execution_count": 12,
   "id": "5d6c7876",
   "metadata": {
    "ExecuteTime": {
     "end_time": "2023-01-28T20:26:11.860377Z",
     "start_time": "2023-01-28T20:26:11.838937Z"
    }
   },
   "outputs": [
    {
     "name": "stdout",
     "output_type": "stream",
     "text": [
      "['https://www.youtube.com/watch?v=z0gguhEmWiY', 'https://www.youtube.com/watch?v=_P7X8tMplsw', 'https://www.youtube.com/watch?v=fKl2JW_qrso', 'https://www.youtube.com/watch?v=IEEhzQoKtQU', 'There is not any youtube links in this section', 'https://www.youtube.com/watch?v=mO_dS3rXDIs', 'https://www.youtube.com/watch?v=2Fp1N6dof0Y', 'https://www.youtube.com/watch?v=-nh9rCzPJ20', 'https://www.youtube.com/watch?v=06I63_p-2A4', 'https://www.youtube.com/watch?v=_JGmemuINww']\n"
     ]
    }
   ],
   "source": [
    "print(youtube_links_list)"
   ]
  },
  {
   "cell_type": "code",
   "execution_count": 14,
   "id": "7a850dde",
   "metadata": {
    "ExecuteTime": {
     "end_time": "2023-01-28T20:26:40.989079Z",
     "start_time": "2023-01-28T20:26:40.973448Z"
    }
   },
   "outputs": [],
   "source": [
    "csv_file = open(\"coreyms_website.csv\",\"w\",encoding=\"utf-8\")\n",
    "writer = csv.writer(csv_file)\n",
    "writer.writerow([\"headlines\",\"summaries\",\"youtube_links\"])\n",
    "for i in range(len(summaries_list)):\n",
    "    writer.writerow([headlines_list[i],summaries_list[i],youtube_links_list[i]])"
   ]
  },
  {
   "cell_type": "code",
   "execution_count": null,
   "id": "fa436ef6",
   "metadata": {},
   "outputs": [],
   "source": []
  }
 ],
 "metadata": {
  "kernelspec": {
   "display_name": "Python 3 (ipykernel)",
   "language": "python",
   "name": "python3"
  },
  "language_info": {
   "codemirror_mode": {
    "name": "ipython",
    "version": 3
   },
   "file_extension": ".py",
   "mimetype": "text/x-python",
   "name": "python",
   "nbconvert_exporter": "python",
   "pygments_lexer": "ipython3",
   "version": "3.9.13"
  },
  "varInspector": {
   "cols": {
    "lenName": 16,
    "lenType": 16,
    "lenVar": 40
   },
   "kernels_config": {
    "python": {
     "delete_cmd_postfix": "",
     "delete_cmd_prefix": "del ",
     "library": "var_list.py",
     "varRefreshCmd": "print(var_dic_list())"
    },
    "r": {
     "delete_cmd_postfix": ") ",
     "delete_cmd_prefix": "rm(",
     "library": "var_list.r",
     "varRefreshCmd": "cat(var_dic_list()) "
    }
   },
   "types_to_exclude": [
    "module",
    "function",
    "builtin_function_or_method",
    "instance",
    "_Feature"
   ],
   "window_display": false
  }
 },
 "nbformat": 4,
 "nbformat_minor": 5
}
