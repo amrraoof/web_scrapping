{
 "cells": [
  {
   "cell_type": "code",
   "execution_count": null,
   "id": "a4d88a20",
   "metadata": {
    "ExecuteTime": {
     "end_time": "2023-03-03T18:18:33.283640Z",
     "start_time": "2023-03-03T18:17:53.886660Z"
    }
   },
   "outputs": [],
   "source": [
    "\"\"\"\n",
    "auto log in in github using firfox you only have to enter yourname and password \n",
    "\"\"\"\n",
    "from selenium import webdriver\n",
    "from selenium.webdriver.firefox.options import Options\n",
    "from selenium.webdriver.common.by import By\n",
    "\n",
    "# Opening geckdriver\n",
    "\n",
    "options = Options()\n",
    "options.binary_location = r'C:\\Program Files\\Mozilla Firefox\\firefox.exe'\n",
    "driver = webdriver.Firefox(executable_path=r'geckodriver.exe', options=options)\n",
    "driver.get(\"https://github.com\") #Openning github \n",
    "\n",
    "driver.find_element(By.LINK_TEXT, \"Sign in\").click() # clicking on Sign in button\n",
    "\n",
    "username = input(\"Please enter your email: \") # Enter email\n",
    "password = input(\"Please enter your password: \") # Enter pass\n",
    "\n",
    "username = driver.find_element(By.ID,\"login_field\").send_keys(username) # writing email in email field\n",
    "password = driver.find_element(By.ID , \"password\").send_keys(password) # Writing pass in pass field\n",
    "\n",
    "sign = driver.find_element(By.CLASS_NAME, \"js-sign-in-button\").click() # Click on Sign in"
   ]
  }
 ],
 "metadata": {
  "kernelspec": {
   "display_name": "Python 3 (ipykernel)",
   "language": "python",
   "name": "python3"
  },
  "language_info": {
   "codemirror_mode": {
    "name": "ipython",
    "version": 3
   },
   "file_extension": ".py",
   "mimetype": "text/x-python",
   "name": "python",
   "nbconvert_exporter": "python",
   "pygments_lexer": "ipython3",
   "version": "3.9.13"
  },
  "varInspector": {
   "cols": {
    "lenName": 16,
    "lenType": 16,
    "lenVar": 40
   },
   "kernels_config": {
    "python": {
     "delete_cmd_postfix": "",
     "delete_cmd_prefix": "del ",
     "library": "var_list.py",
     "varRefreshCmd": "print(var_dic_list())"
    },
    "r": {
     "delete_cmd_postfix": ") ",
     "delete_cmd_prefix": "rm(",
     "library": "var_list.r",
     "varRefreshCmd": "cat(var_dic_list()) "
    }
   },
   "types_to_exclude": [
    "module",
    "function",
    "builtin_function_or_method",
    "instance",
    "_Feature"
   ],
   "window_display": false
  }
 },
 "nbformat": 4,
 "nbformat_minor": 5
}
